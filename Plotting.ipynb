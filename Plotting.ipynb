{
 "cells": [
  {
   "cell_type": "code",
   "execution_count": null,
   "metadata": {},
   "outputs": [],
   "source": [
    "import pandas as pd\n",
    "from matplotlib import pyplot as plt\n",
    "import seaborn as sns"
   ]
  },
  {
   "cell_type": "code",
   "execution_count": null,
   "metadata": {},
   "outputs": [],
   "source": [
    "df = pd.read_csv(\"result.csv\").query('associativity == 2 & input == \"blackscholes_four-blackscholes\" & blocksize == 32')[['protocol', 'cachesize', 'exec']]\n",
    "f = sns.catplot(data=df, x='cachesize', y='exec', hue='protocol', linestyles=[\"--\", \"--\", \"--\"], kind=\"point\", hue_order=['Dragon', 'MESI', 'MOESI'])\n",
    "f.set(yscale=\"log\")"
   ]
  }
 ],
 "metadata": {
  "kernelspec": {
   "display_name": "Python 3",
   "language": "python",
   "name": "python3"
  },
  "language_info": {
   "codemirror_mode": {
    "name": "ipython",
    "version": 3
   },
   "file_extension": ".py",
   "mimetype": "text/x-python",
   "name": "python",
   "nbconvert_exporter": "python",
   "pygments_lexer": "ipython3",
   "version": "3.7.4"
  }
 },
 "nbformat": 4,
 "nbformat_minor": 2
}
